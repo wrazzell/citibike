{
 "cells": [
  {
   "cell_type": "code",
   "execution_count": 47,
   "metadata": {},
   "outputs": [],
   "source": [
    "#libraries needed\n",
    "import csv\n",
    "import pandas as pd\n",
    "import os\n"
   ]
  },
  {
   "cell_type": "markdown",
   "metadata": {},
   "source": [
    "\n"
   ]
  },
  {
   "cell_type": "code",
   "execution_count": 48,
   "metadata": {},
   "outputs": [
    {
     "name": "stdout",
     "output_type": "stream",
     "text": [
      "(70, 4)\n",
      "(70, 5)\n"
     ]
    }
   ],
   "source": [
    "# import data directory the . at the start is the location of the python file\n",
    "import_directory='./saved csv/'\n",
    "\n",
    "\n",
    "Total_rides_df=pd.read_csv(import_directory+'totalrides_noindex.csv')\n",
    "weather_df= pd.read_csv(import_directory+'weather.csv')\n",
    "\n",
    "weather_df= weather_df.loc[0:71]\n",
    "\n",
    "\n",
    "print(Total_rides_df.shape)\n",
    "print(weather_df.shape)\n",
    "\n",
    "\n",
    "        "
   ]
  },
  {
   "cell_type": "code",
   "execution_count": 49,
   "metadata": {},
   "outputs": [],
   "source": [
    "def column_sub(df, columnname):\n",
    "    result_list=[0]\n",
    "    list_column=df[columnname].to_list()\n",
    "    counter=0\n",
    "    while (counter+1) <len(list_column):\n",
    "        result=round((list_column[counter+1])-(list_column[counter]),1)\n",
    "        result_list.append(result)\n",
    "        counter+=1\n",
    "    return result_list\n",
    "\n",
    "\n"
   ]
  },
  {
   "cell_type": "code",
   "execution_count": 50,
   "metadata": {},
   "outputs": [],
   "source": [
    "dif_rides=column_sub(Total_rides_df, \"Total rides\" )\n",
    "dif_temp=column_sub(weather_df, \"TAVG\" )\n",
    "dif_rain=column_sub(weather_df, \"PRCP\" )"
   ]
  },
  {
   "cell_type": "code",
   "execution_count": 51,
   "metadata": {},
   "outputs": [
    {
     "data": {
      "text/html": [
       "<div>\n",
       "<style scoped>\n",
       "    .dataframe tbody tr th:only-of-type {\n",
       "        vertical-align: middle;\n",
       "    }\n",
       "\n",
       "    .dataframe tbody tr th {\n",
       "        vertical-align: top;\n",
       "    }\n",
       "\n",
       "    .dataframe thead th {\n",
       "        text-align: right;\n",
       "    }\n",
       "</style>\n",
       "<table border=\"1\" class=\"dataframe\">\n",
       "  <thead>\n",
       "    <tr style=\"text-align: right;\">\n",
       "      <th></th>\n",
       "      <th>∆rides</th>\n",
       "      <th>∆temp</th>\n",
       "      <th>∆rain</th>\n",
       "    </tr>\n",
       "  </thead>\n",
       "  <tbody>\n",
       "    <tr>\n",
       "      <th>0</th>\n",
       "      <td>0</td>\n",
       "      <td>0.0</td>\n",
       "      <td>0.0</td>\n",
       "    </tr>\n",
       "    <tr>\n",
       "      <th>1</th>\n",
       "      <td>265713</td>\n",
       "      <td>7.1</td>\n",
       "      <td>-7.3</td>\n",
       "    </tr>\n",
       "    <tr>\n",
       "      <th>2</th>\n",
       "      <td>158542</td>\n",
       "      <td>-5.2</td>\n",
       "      <td>0.0</td>\n",
       "    </tr>\n",
       "    <tr>\n",
       "      <th>3</th>\n",
       "      <td>32401</td>\n",
       "      <td>-6.7</td>\n",
       "      <td>0.1</td>\n",
       "    </tr>\n",
       "    <tr>\n",
       "      <th>4</th>\n",
       "      <td>3353</td>\n",
       "      <td>-7.7</td>\n",
       "      <td>-2.6</td>\n",
       "    </tr>\n",
       "  </tbody>\n",
       "</table>\n",
       "</div>"
      ],
      "text/plain": [
       "   ∆rides  ∆temp  ∆rain\n",
       "0       0    0.0    0.0\n",
       "1  265713    7.1   -7.3\n",
       "2  158542   -5.2    0.0\n",
       "3   32401   -6.7    0.1\n",
       "4    3353   -7.7   -2.6"
      ]
     },
     "execution_count": 51,
     "metadata": {},
     "output_type": "execute_result"
    }
   ],
   "source": [
    "changes_df=pd.DataFrame({'∆rides' : dif_rides,'∆temp' : dif_temp,'∆rain' : dif_rain })\n",
    "                               \n",
    "changes_df.head()"
   ]
  },
  {
   "cell_type": "code",
   "execution_count": 52,
   "metadata": {},
   "outputs": [],
   "source": [
    "save_directory='./saved csv/'\n",
    "changes_df.to_csv(save_directory+\"changes in figures.csv\")"
   ]
  }
 ],
 "metadata": {
  "kernelspec": {
   "display_name": "Python 3",
   "language": "python",
   "name": "python3"
  },
  "language_info": {
   "codemirror_mode": {
    "name": "ipython",
    "version": 3
   },
   "file_extension": ".py",
   "mimetype": "text/x-python",
   "name": "python",
   "nbconvert_exporter": "python",
   "pygments_lexer": "ipython3",
   "version": "3.7.3"
  }
 },
 "nbformat": 4,
 "nbformat_minor": 2
}
