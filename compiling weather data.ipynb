{
 "cells": [
  {
   "cell_type": "markdown",
   "metadata": {},
   "source": [
    "## The point of this code is to compile a table of weather in NY, Central Park.\n",
    "\n"
   ]
  },
  {
   "cell_type": "code",
   "execution_count": 3,
   "metadata": {},
   "outputs": [
    {
     "data": {
      "text/html": [
       "        <script type=\"text/javascript\">\n",
       "        window.PlotlyConfig = {MathJaxConfig: 'local'};\n",
       "        if (window.MathJax) {MathJax.Hub.Config({SVG: {font: \"STIX-Web\"}});}\n",
       "        if (typeof require !== 'undefined') {\n",
       "        require.undef(\"plotly\");\n",
       "        requirejs.config({\n",
       "            paths: {\n",
       "                'plotly': ['https://cdn.plot.ly/plotly-latest.min']\n",
       "            }\n",
       "        });\n",
       "        require(['plotly'], function(Plotly) {\n",
       "            window._Plotly = Plotly;\n",
       "        });\n",
       "        }\n",
       "        </script>\n",
       "        "
      ]
     },
     "metadata": {},
     "output_type": "display_data"
    }
   ],
   "source": [
    "#libraries needed\n",
    "import csv\n",
    "import pandas as pd\n",
    "import os\n",
    "\n",
    "#these are the plotly libaries, but i dont use ff\n",
    "import plotly\n",
    "import plotly.graph_objs as go\n",
    "\n",
    "plotly.offline.init_notebook_mode(connected=True)"
   ]
  },
  {
   "cell_type": "markdown",
   "metadata": {},
   "source": [
    "### First thing I did was to import each file, read the data and put it in a df, then I indexed it by user type so i could separate out the Customers.\n"
   ]
  },
  {
   "cell_type": "code",
   "execution_count": 7,
   "metadata": {},
   "outputs": [
    {
     "name": "stdout",
     "output_type": "stream",
     "text": [
      "1732558.csv\n",
      "1732563.csv\n"
     ]
    },
    {
     "data": {
      "text/html": [
       "<div>\n",
       "<style scoped>\n",
       "    .dataframe tbody tr th:only-of-type {\n",
       "        vertical-align: middle;\n",
       "    }\n",
       "\n",
       "    .dataframe tbody tr th {\n",
       "        vertical-align: top;\n",
       "    }\n",
       "\n",
       "    .dataframe thead th {\n",
       "        text-align: right;\n",
       "    }\n",
       "</style>\n",
       "<table border=\"1\" class=\"dataframe\">\n",
       "  <thead>\n",
       "    <tr style=\"text-align: right;\">\n",
       "      <th></th>\n",
       "      <th>NAME</th>\n",
       "      <th>DATE</th>\n",
       "      <th>PRCP</th>\n",
       "      <th>TAVG</th>\n",
       "    </tr>\n",
       "    <tr>\n",
       "      <th>STATION</th>\n",
       "      <th></th>\n",
       "      <th></th>\n",
       "      <th></th>\n",
       "      <th></th>\n",
       "    </tr>\n",
       "  </thead>\n",
       "  <tbody>\n",
       "    <tr>\n",
       "      <th>USW00094728</th>\n",
       "      <td>NY CITY CENTRAL PARK, NY US</td>\n",
       "      <td>2016-01</td>\n",
       "      <td>4.41</td>\n",
       "      <td>34.5</td>\n",
       "    </tr>\n",
       "    <tr>\n",
       "      <th>USW00094728</th>\n",
       "      <td>NY CITY CENTRAL PARK, NY US</td>\n",
       "      <td>2016-02</td>\n",
       "      <td>4.41</td>\n",
       "      <td>37.8</td>\n",
       "    </tr>\n",
       "    <tr>\n",
       "      <th>USW00094728</th>\n",
       "      <td>NY CITY CENTRAL PARK, NY US</td>\n",
       "      <td>2016-03</td>\n",
       "      <td>1.17</td>\n",
       "      <td>48.9</td>\n",
       "    </tr>\n",
       "    <tr>\n",
       "      <th>USW00094728</th>\n",
       "      <td>NY CITY CENTRAL PARK, NY US</td>\n",
       "      <td>2016-04</td>\n",
       "      <td>1.62</td>\n",
       "      <td>53.3</td>\n",
       "    </tr>\n",
       "    <tr>\n",
       "      <th>USW00094728</th>\n",
       "      <td>NY CITY CENTRAL PARK, NY US</td>\n",
       "      <td>2016-05</td>\n",
       "      <td>3.76</td>\n",
       "      <td>62.8</td>\n",
       "    </tr>\n",
       "  </tbody>\n",
       "</table>\n",
       "</div>"
      ],
      "text/plain": [
       "                                    NAME     DATE  PRCP  TAVG\n",
       "STATION                                                      \n",
       "USW00094728  NY CITY CENTRAL PARK, NY US  2016-01  4.41  34.5\n",
       "USW00094728  NY CITY CENTRAL PARK, NY US  2016-02  4.41  37.8\n",
       "USW00094728  NY CITY CENTRAL PARK, NY US  2016-03  1.17  48.9\n",
       "USW00094728  NY CITY CENTRAL PARK, NY US  2016-04  1.62  53.3\n",
       "USW00094728  NY CITY CENTRAL PARK, NY US  2016-05  3.76  62.8"
      ]
     },
     "execution_count": 7,
     "metadata": {},
     "output_type": "execute_result"
    }
   ],
   "source": [
    "#I needed to rename the columns so they is consistent amoung files. This is just the list of column titles to use later\n",
    "#columnlist=['Trip Duration', 'Start Time','Stop Time', 'Start Station ID', 'Start Station Name', \n",
    "            #'Start Latitude', 'Start Longitude', ' End Station ID', 'End Station Name', 'End Latitude', \n",
    "            #'End Longitude', 'Bike ID', 'User Type', 'Birth Year', 'Gender']\n",
    "\n",
    "# import data directory the . at the start is the location of the python file\n",
    "import_directory='./weather data/'\n",
    "\n",
    "#blank dataframe to store the data in\n",
    "df_weather_NY=pd.DataFrame()\n",
    "\n",
    "#iterate over files in a directory\n",
    "for file in os.listdir(import_directory):\n",
    "    if file.endswith(\".csv\"):# this was important as their were hidden files in the folder that messed with my code further down\n",
    "        #reads the CSV into a dataframe\n",
    "        df_month = pd.read_csv(import_directory + file)\n",
    "        \n",
    "        print(file)# for my own info of which files are being read\n",
    "        \n",
    "          \n",
    "        #index the dataframe by user type\n",
    "        df_month_ind=df_month.set_index(\"STATION\")\n",
    "        df_month_NY=df_month_ind.loc['USW00094728']\n",
    "   \n",
    "    \n",
    "        #append the dataframe to the all users data frame (this is why having consistent column names is important)\n",
    "        df_weather_NY = df_weather_NY.append(df_month_NY)\n",
    "\n",
    "df_weather_NY.head()"
   ]
  },
  {
   "cell_type": "code",
   "execution_count": 9,
   "metadata": {},
   "outputs": [
    {
     "data": {
      "text/html": [
       "<div>\n",
       "<style scoped>\n",
       "    .dataframe tbody tr th:only-of-type {\n",
       "        vertical-align: middle;\n",
       "    }\n",
       "\n",
       "    .dataframe tbody tr th {\n",
       "        vertical-align: top;\n",
       "    }\n",
       "\n",
       "    .dataframe thead th {\n",
       "        text-align: right;\n",
       "    }\n",
       "</style>\n",
       "<table border=\"1\" class=\"dataframe\">\n",
       "  <thead>\n",
       "    <tr style=\"text-align: right;\">\n",
       "      <th></th>\n",
       "      <th>NAME</th>\n",
       "      <th>DATE</th>\n",
       "      <th>PRCP</th>\n",
       "      <th>TAVG</th>\n",
       "    </tr>\n",
       "    <tr>\n",
       "      <th>STATION</th>\n",
       "      <th></th>\n",
       "      <th></th>\n",
       "      <th></th>\n",
       "      <th></th>\n",
       "    </tr>\n",
       "  </thead>\n",
       "  <tbody>\n",
       "    <tr>\n",
       "      <th>USW00094728</th>\n",
       "      <td>NY CITY CENTRAL PARK, NY US</td>\n",
       "      <td>2018-12</td>\n",
       "      <td>6.51</td>\n",
       "      <td>40.2</td>\n",
       "    </tr>\n",
       "    <tr>\n",
       "      <th>USW00094728</th>\n",
       "      <td>NY CITY CENTRAL PARK, NY US</td>\n",
       "      <td>2019-01</td>\n",
       "      <td>3.58</td>\n",
       "      <td>32.6</td>\n",
       "    </tr>\n",
       "    <tr>\n",
       "      <th>USW00094728</th>\n",
       "      <td>NY CITY CENTRAL PARK, NY US</td>\n",
       "      <td>2019-02</td>\n",
       "      <td>3.14</td>\n",
       "      <td>36.3</td>\n",
       "    </tr>\n",
       "    <tr>\n",
       "      <th>USW00094728</th>\n",
       "      <td>NY CITY CENTRAL PARK, NY US</td>\n",
       "      <td>2019-03</td>\n",
       "      <td>3.87</td>\n",
       "      <td>41.7</td>\n",
       "    </tr>\n",
       "    <tr>\n",
       "      <th>USW00094728</th>\n",
       "      <td>NY CITY CENTRAL PARK, NY US</td>\n",
       "      <td>2019-04</td>\n",
       "      <td>4.56</td>\n",
       "      <td>55.5</td>\n",
       "    </tr>\n",
       "  </tbody>\n",
       "</table>\n",
       "</div>"
      ],
      "text/plain": [
       "                                    NAME     DATE  PRCP  TAVG\n",
       "STATION                                                      \n",
       "USW00094728  NY CITY CENTRAL PARK, NY US  2018-12  6.51  40.2\n",
       "USW00094728  NY CITY CENTRAL PARK, NY US  2019-01  3.58  32.6\n",
       "USW00094728  NY CITY CENTRAL PARK, NY US  2019-02  3.14  36.3\n",
       "USW00094728  NY CITY CENTRAL PARK, NY US  2019-03  3.87  41.7\n",
       "USW00094728  NY CITY CENTRAL PARK, NY US  2019-04  4.56  55.5"
      ]
     },
     "execution_count": 9,
     "metadata": {},
     "output_type": "execute_result"
    }
   ],
   "source": [
    "df_weather_NY_sort=df_weather_NY.sort_values(by=['DATE'])\n",
    "df_weather_NY_sort.tail()"
   ]
  },
  {
   "cell_type": "code",
   "execution_count": 10,
   "metadata": {},
   "outputs": [],
   "source": [
    "save_directory='./saved csv/'\n",
    "df_weather_NY_sort.to_csv(save_directory+\"weather.csv\")"
   ]
  },
  {
   "cell_type": "code",
   "execution_count": null,
   "metadata": {},
   "outputs": [],
   "source": []
  }
 ],
 "metadata": {
  "kernelspec": {
   "display_name": "Python 3",
   "language": "python",
   "name": "python3"
  },
  "language_info": {
   "codemirror_mode": {
    "name": "ipython",
    "version": 3
   },
   "file_extension": ".py",
   "mimetype": "text/x-python",
   "name": "python",
   "nbconvert_exporter": "python",
   "pygments_lexer": "ipython3",
   "version": "3.7.3"
  }
 },
 "nbformat": 4,
 "nbformat_minor": 2
}
